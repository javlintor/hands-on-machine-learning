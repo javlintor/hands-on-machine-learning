{
 "cells": [
  {
   "cell_type": "markdown",
   "metadata": {},
   "source": [
    "# Training models\n",
    "It is important to have a good understanding of how things work to quickly home in on the appropriate model, the right training algorithm to use, and a good set of hyperparameters for you task. \n",
    "\n",
    "In this chapter we are going to take a look at *Linear Regression*, one of the simplest models and learn about some optimization approaches to make fit the model. Then, we will learn about overfitting and regularization with a more complex model, *polynomial regression* and then try those concepts with two classification models: *Logitic Regression* and *Softmax Regression*. "
   ]
  },
  {
   "cell_type": "markdown",
   "metadata": {},
   "source": [
    "## Linear Regression\n",
    "Given a vector of features or variables, $x = \\left( \\begin{array}{c} x_1 \\\\ \\vdots \\\\ x_n \\end{array} \\right)$, a **linear model** make use of a linear function on $x$ to make a prediction \n",
    "$$\n",
    "\\hat{y} = \\theta_0 + \\theta_1 x_1 + \\theta_2x_2 + \\dots + \\theta_nx_n\n",
    "$$\n",
    "We can write this equation in a more compact form using the dot product \n",
    "$$\n",
    "\\hat{y} = h_\\theta(x) = \\boldsymbol{\\theta} \\cdot \\boldsymbol{x}\n",
    "$$\n",
    "where $\\boldsymbol{\\theta} = \\left( \\begin{array}{c} \\theta_0 \\\\ \\theta_1 \\\\ \\vdots \\\\ \\theta_n \\end{array} \\right)$, $\\boldsymbol{x} = \\left( \\begin{array}{c} 1 \\\\ x_1 \\\\ \\vdots \\\\ x_n \\end{array} \\right)$ and $h_theta$ is the jypothesis function, that uses the model parameters $\\boldsymbol{\\theta}$.\n",
    "\n",
    "Given a model, we need to train it to find a vector $\\boldsymbol{\\theta}$ that minimizes a certain **cost function**. A very common metric is the RMSE, but when optimizing we use the MSE becasue it is simpler and leads to the same results. So in this case our coss function is the following \n",
    "$$\n",
    "\\text{MSE}(X, h_\\theta) = \\frac{1}{m} \\sum_{i = 1}^m \\left( \\theta^tx^{(i)} - y^{(i)} \\right)^2\n",
    "$$\n",
    "There is a solution to that equation which is \n",
    "$$\n",
    "\\hat{\\boldsymbol{\\theta}} = (X^tX)^{-1}X^ty\n",
    "$$"
   ]
  },
  {
   "cell_type": "code",
   "execution_count": 21,
   "metadata": {},
   "outputs": [],
   "source": [
    "import numpy as np\n",
    "X = 10*np.random.rand(1000, 1)\n",
    "y = 2 + 3*X + np.random.randn(1000, 1)"
   ]
  },
  {
   "cell_type": "code",
   "execution_count": 22,
   "metadata": {},
   "outputs": [
    {
     "data": {
      "text/plain": [
       "[<matplotlib.lines.Line2D at 0x7fdd71c31820>]"
      ]
     },
     "execution_count": 22,
     "metadata": {},
     "output_type": "execute_result"
    },
    {
     "data": {
      "image/png": "[encoded data removed]",
      "text/plain": [
       "<Figure size 720x360 with 1 Axes>"
      ]
     },
     "metadata": {
      "needs_background": "light"
     },
     "output_type": "display_data"
    }
   ],
   "source": [
    "import matplotlib.pyplot as plt\n",
    "fig, ax = plt.subplots(figsize=(10, 5))\n",
    "ax.plot(X, y, \"o\")"
   ]
  },
  {
   "cell_type": "markdown",
   "metadata": {},
   "source": [
    "We can use the `inv` function from `numpy.linalg` to compute th inverse of a matrix"
   ]
  },
  {
   "cell_type": "code",
   "execution_count": 23,
   "metadata": {},
   "outputs": [],
   "source": [
    "X_b = np.concatenate((np.ones((1000, 1)), X), axis=1)"
   ]
  },
  {
   "cell_type": "code",
   "execution_count": 24,
   "metadata": {},
   "outputs": [],
   "source": [
    "theta_best = np.linalg.inv(X_b.T @ X_b) @ X_b.T @ y"
   ]
  },
  {
   "cell_type": "code",
   "execution_count": 25,
   "metadata": {},
   "outputs": [
    {
     "data": {
      "text/plain": [
       "array([[1.91034313],\n",
       "       [3.00540698]])"
      ]
     },
     "execution_count": 25,
     "metadata": {},
     "output_type": "execute_result"
    }
   ],
   "source": [
    "theta_best"
   ]
  },
  {
   "cell_type": "code",
   "execution_count": null,
   "metadata": {},
   "outputs": [],
   "source": []
  }
 ],
 "metadata": {
  "kernelspec": {
   "display_name": "Python 3.9.1 ('my_env': venv)",
   "language": "python",
   "name": "python3"
  },
  "language_info": {
   "codemirror_mode": {
    "name": "ipython",
    "version": 3
   },
   "file_extension": ".py",
   "mimetype": "text/x-python",
   "name": "python",
   "nbconvert_exporter": "python",
   "pygments_lexer": "ipython3",
   "version": "3.9.1"
  },
  "orig_nbformat": 4,
  "vscode": {
   "interpreter": {
    "hash": "55399731cebb31993cda92c257ac89f2c586188a1be3b67becd9ee94b331b4e0"
   }
  }
 },
 "nbformat": 4,
 "nbformat_minor": 2
}
